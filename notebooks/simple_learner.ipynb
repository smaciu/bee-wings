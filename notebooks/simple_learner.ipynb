{
 "cells": [
  {
   "cell_type": "code",
   "execution_count": null,
   "metadata": {},
   "outputs": [],
   "source": [
    "from fastai.vision.all import *"
   ]
  },
  {
   "cell_type": "code",
   "execution_count": null,
   "metadata": {},
   "outputs": [],
   "source": [
    "import warnings\n",
    "warnings.filterwarnings(\"ignore\")"
   ]
  },
  {
   "cell_type": "code",
   "execution_count": null,
   "metadata": {},
   "outputs": [],
   "source": [
    "path = Path(\"../data/train_small\")\n",
    "path.ls()"
   ]
  },
  {
   "cell_type": "code",
   "execution_count": null,
   "metadata": {},
   "outputs": [],
   "source": [
    "bee_wing_stats =([0.7641, 0.7641, 0.7641], [0.1771, 0.1771, 0.1771]) # dataset mean and std to normalizeadsa\n",
    "def label_func(f): return f.name[:2]\n",
    "\n",
    "def create_dataloader(size, bs, resize_mode):\n",
    "    return DataBlock(blocks = (ImageBlock, CategoryBlock),\n",
    "                    get_items = get_image_files,\n",
    "                    get_y     = label_func,\n",
    "                    splitter  = RandomSplitter(),\n",
    "                    item_tfms = Resize(size, method=resize_mode),\n",
    "                    batch_tfms = Normalize.from_stats(*bee_wing_stats)\n",
    "           ).dataloaders(path, bs=bs, num_workers=num_cpus(), pin_memory=True).to('mps')\n",
    "\n",
    "def create_learner(dls, model_path, model_architecture):\n",
    "\n",
    "    cbfs = [\n",
    "            ShowGraphCallback,\n",
    "            ReduceLROnPlateau(monitor='valid_loss', min_delta=0.01, patience=2),\n",
    "            ]\n",
    "    learn = vision_learner(dls, model_architecture, pretrained=True, cbs=cbfs, metrics=accuracy)\n",
    "    learn.model_dir = '.'\n",
    "\n",
    "    if os.path.exists(str(model_path) + '.pth'):\n",
    "        learn.load(model_path, with_opt=True)\n",
    "        print(f\"Loaded pre-trained weights from {model_path}\")\n",
    "    return learn\n",
    "\n",
    "\n",
    "model_path = Path(\"../models/prog_resnet152\")\n",
    "\n",
    "dls = create_dataloader(448, 32, 'squish')\n",
    "learn = create_learner(dls, model_path, resnet152)\n",
    "\n",
    "learn.fit_one_cycle(1, 1e-3)\n",
    "\n",
    "learn.save(str(model_path) + '_new', with_opt=True)"
   ]
  },
  {
   "cell_type": "code",
   "execution_count": null,
   "metadata": {},
   "outputs": [],
   "source": [
    "interp = ClassificationInterpretation.from_learner(learn)"
   ]
  },
  {
   "cell_type": "code",
   "execution_count": null,
   "metadata": {},
   "outputs": [],
   "source": [
    "interp.plot_confusion_matrix(figsize=(12,12), dpi=60)"
   ]
  },
  {
   "cell_type": "code",
   "execution_count": null,
   "metadata": {},
   "outputs": [],
   "source": [
    "interp.most_confused (min_val=1)"
   ]
  },
  {
   "cell_type": "code",
   "execution_count": null,
   "metadata": {},
   "outputs": [],
   "source": []
  },
  {
   "cell_type": "code",
   "execution_count": null,
   "metadata": {},
   "outputs": [],
   "source": []
  }
 ],
 "metadata": {
  "kernelspec": {
   "display_name": "fastai23",
   "language": "python",
   "name": "python3"
  },
  "language_info": {
   "codemirror_mode": {
    "name": "ipython",
    "version": 3
   },
   "file_extension": ".py",
   "mimetype": "text/x-python",
   "name": "python",
   "nbconvert_exporter": "python",
   "pygments_lexer": "ipython3",
   "version": "3.11.0"
  },
  "orig_nbformat": 4
 },
 "nbformat": 4,
 "nbformat_minor": 2
}
