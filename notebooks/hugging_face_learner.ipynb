{
 "cells": [
  {
   "cell_type": "code",
   "execution_count": null,
   "metadata": {},
   "outputs": [],
   "source": [
    "import sys\n",
    "from fastai.vision.all import *\n",
    "from huggingface_hub import from_pretrained_fastai\n",
    "from datasets import load_dataset"
   ]
  },
  {
   "cell_type": "code",
   "execution_count": null,
   "metadata": {},
   "outputs": [],
   "source": [
    "dataset = load_dataset(\"smaciu/bee-wings-small\", split=\"train\") # load dataset from huggingface hub"
   ]
  },
  {
   "cell_type": "code",
   "execution_count": null,
   "metadata": {},
   "outputs": [],
   "source": [
    "def label_func(f): return f.name[:2]\n",
    "\n",
    "def get_items(o): \n",
    "    return range(len(dataset))\n",
    "\n",
    "def get_x(i): \n",
    "    return dataset[i]['image']\n",
    "\n",
    "def get_y(i): \n",
    "    return dataset[i]['label']"
   ]
  },
  {
   "cell_type": "code",
   "execution_count": null,
   "metadata": {},
   "outputs": [],
   "source": [
    "bee_wing_stats =([0.7641, 0.7641, 0.7641], [0.1771, 0.1771, 0.1771]) # dataset mean and std to normalizeadsa\n",
    "def label_func(f): return f.name[:2]\n",
    "\n",
    "def create_dataloader(size, bs, resize_mode):\n",
    "    return DataBlock(blocks = (ImageBlock, CategoryBlock),\n",
    "                    get_items = get_items,\n",
    "                    get_y     = get_y,\n",
    "                    get_x     = get_x,\n",
    "                    splitter  = RandomSplitter(),\n",
    "                    item_tfms = Resize(size, method=resize_mode),\n",
    "                    batch_tfms = Normalize.from_stats(*bee_wing_stats)\n",
    "           ).dataloaders(dataset, bs=bs, num_workers=num_cpus(), pin_memory=True).to('mps')\n",
    "\n",
    "learn = from_pretrained_fastai(\"smaciu/bee-wings-classifier\") # laod model from huggingface hub\n",
    "\n",
    "learn.dls = create_dataloader(448, 32, 'squish') # this takes a while"
   ]
  },
  {
   "cell_type": "code",
   "execution_count": null,
   "metadata": {},
   "outputs": [],
   "source": [
    "\n",
    "learn.fit_one_cycle(1, 1e-3)\n"
   ]
  }
 ],
 "metadata": {
  "kernelspec": {
   "display_name": "fastai23",
   "language": "python",
   "name": "python3"
  },
  "language_info": {
   "codemirror_mode": {
    "name": "ipython",
    "version": 3
   },
   "file_extension": ".py",
   "mimetype": "text/x-python",
   "name": "python",
   "nbconvert_exporter": "python",
   "pygments_lexer": "ipython3",
   "version": "3.11.0"
  },
  "orig_nbformat": 4
 },
 "nbformat": 4,
 "nbformat_minor": 2
}
