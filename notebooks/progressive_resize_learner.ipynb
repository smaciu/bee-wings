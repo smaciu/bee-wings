{
 "cells": [
  {
   "cell_type": "code",
   "execution_count": null,
   "id": "cb355651-3661-430e-92ba-4188cc0076e6",
   "metadata": {
    "tags": []
   },
   "outputs": [],
   "source": [
    "from fastai.vision.all import *"
   ]
  },
  {
   "cell_type": "code",
   "execution_count": null,
   "id": "87a6ff90-7341-4bcc-aabd-17bad7bdc0b0",
   "metadata": {
    "tags": []
   },
   "outputs": [],
   "source": [
    "import warnings\n",
    "warnings.filterwarnings(\"ignore\")"
   ]
  },
  {
   "cell_type": "code",
   "execution_count": null,
   "id": "fd4dbd9d",
   "metadata": {},
   "outputs": [],
   "source": [
    "path = Path(\"../data/train\") # path to training data. Load with complete dataset\n",
    "path.ls()"
   ]
  },
  {
   "cell_type": "code",
   "execution_count": null,
   "id": "52c2c73d-6a9e-4b87-8e9b-6841048ef2a3",
   "metadata": {
    "tags": []
   },
   "outputs": [],
   "source": [
    "bee_wing_stats =([0.7641, 0.7641, 0.7641], [0.1771, 0.1771, 0.1771]) # dataset mean and std to normalizeadsa\n",
    "def label_func(f): return f.name[:2]\n",
    "\n",
    "def create_dataloader(size, bs, resize_mode):\n",
    "    return DataBlock(blocks = (ImageBlock, CategoryBlock),\n",
    "                    get_items = get_image_files,\n",
    "                    get_y     = label_func,\n",
    "                    splitter  = RandomSplitter(),\n",
    "                    item_tfms = Resize(size, method=resize_mode),\n",
    "                    batch_tfms = Normalize.from_stats(*bee_wing_stats)\n",
    "           ).dataloaders(path, bs=bs, num_workers=num_cpus(), pin_memory=True).to('mps')\n",
    "\n",
    "def create_learner(dls, model_path, model_architecture):\n",
    "\n",
    "    cbfs = [\n",
    "            #ShowGraphCallback,\n",
    "            ReduceLROnPlateau(monitor='valid_loss', min_delta=0.01, patience=2),\n",
    "                ]\n",
    "    learn = vision_learner(dls, model_architecture, pretrained=True, cbs=cbfs, metrics=accuracy)\n",
    "    learn.model_dir = '.'\n",
    "\n",
    "    if os.path.exists(str(model_path) + '.pth'):\n",
    "        learn.load(model_path, with_opt=True)\n",
    "        print(f\"Loaded pre-trained weights from {model_path}\")\n",
    "    return learn\n",
    "\n",
    "prog_list = [{'size': 128, 'bs': 256, 'epochs': 5, 'lr': 1e-3, 'unfreeze': False, 'resize_mode': 'squish'},\n",
    "             {'size': 256, 'bs': 128, 'epochs': 10, 'lr': 1e-4, 'unfreeze': False, 'resize_mode': 'squish'},\n",
    "             {'size': 312, 'bs': 64, 'epochs': 15, 'lr': 1e-4, 'unfreeze': True, 'resize_mode': 'squish'},\n",
    "             {'size': 448, 'bs': 32, 'epochs': 1, 'lr': 1e-5, 'unfreeze': True, 'resize_mode': 'squish'},\n",
    "             ]\n",
    "\n",
    "model_path = Path(\"../models/prog_resnet152\")\n",
    "\n",
    "for idx, item in enumerate(prog_list):\n",
    "    print(f\"image size: {item['size']} batch size: {item['bs']} resize type: {item['resize_mode']} unfreeze: {item['unfreeze']}\")\n",
    "\n",
    "    dls = create_dataloader(item['size'], item['bs'], item['resize_mode'])\n",
    "    learn = create_learner(dls, model_path, resnet152)\n",
    "\n",
    "    if item['unfreeze']:\n",
    "        learn.unfreeze()\n",
    "    else:\n",
    "        learn.freeze()\n",
    "\n",
    "    learn.fit_one_cycle(item['epochs'], item['lr'])\n",
    "\n",
    "    learn.save(str(model_path) + '_new', with_opt=True)"
   ]
  },
  {
   "cell_type": "code",
   "execution_count": null,
   "id": "c92efe3a-ec49-4c9e-8fb2-026de1774843",
   "metadata": {
    "tags": []
   },
   "outputs": [],
   "source": [
    "interp = ClassificationInterpretation.from_learner(learn)"
   ]
  },
  {
   "cell_type": "code",
   "execution_count": null,
   "id": "ab15d53d-9991-4199-8bb0-fcacb221e431",
   "metadata": {
    "tags": []
   },
   "outputs": [],
   "source": [
    "interp.plot_confusion_matrix(figsize=(12,12), dpi=60)"
   ]
  },
  {
   "cell_type": "code",
   "execution_count": null,
   "id": "a3fc3808-9649-49ca-8f9c-ca19844fda1a",
   "metadata": {
    "tags": []
   },
   "outputs": [],
   "source": [
    "interp.most_confused (min_val=1)"
   ]
  },
  {
   "attachments": {},
   "cell_type": "markdown",
   "id": "a9add045",
   "metadata": {},
   "source": [
    "## Evaluate model on test data which was not used during trainnig"
   ]
  },
  {
   "cell_type": "code",
   "execution_count": null,
   "id": "f49a43ae",
   "metadata": {},
   "outputs": [],
   "source": [
    "import pandas as pd\n",
    "from fastai.vision.all import *\n",
    "from pathlib import Path\n",
    "\n",
    "path = Path(\"../images/test\")\n",
    "\n",
    "# Get list of image paths\n",
    "image_paths = list(path.glob('*.png')) # Adjust as needed if you have images in other formats\n",
    "\n",
    "\n",
    "batch_size = 512  # Adjust according to your memory availability\n",
    "num_batches = len(image_paths) // batch_size + (len(image_paths) % batch_size != 0)\n",
    "\n",
    "print(len(image_paths), num_batches)\n",
    "\n",
    "data = {\n",
    "    'Filename': [],\n",
    "    'True Country': [],\n",
    "    'Predicted Country': [],\n",
    "    'Probability': [],\n",
    "}\n",
    "\n",
    "for i in range(num_batches):\n",
    "    batch_paths = image_paths[i*batch_size:(i+1)*batch_size]\n",
    "    # Create a test DataLoader\n",
    "    dls = learn.dls.test_dl(batch_paths)\n",
    "    # Get predictions\n",
    "    preds, _ = learn.get_preds(dl=dls)\n",
    "    # Get class indices\n",
    "    pred_class_indices = preds.argmax(dim=-1)\n",
    "    # Get class names\n",
    "    pred_class_names = [learn.dls.vocab[i] for i in pred_class_indices]\n",
    "    # Get probabilities\n",
    "    pred_probs = preds.max(dim=-1)[0]\n",
    "    # Prepare data for DataFrame\n",
    "    data['Filename'].extend([p.name for p in batch_paths])\n",
    "    data['True Country'].extend([p.name[:2] for p in batch_paths])\n",
    "    data['Predicted Country'].extend(pred_class_names)\n",
    "    data['Probability'].extend(pred_probs.tolist())\n",
    "\n",
    "# Convert dictionary to DataFrame and save to CSV\n",
    "df = pd.DataFrame(data)\n",
    "df.to_csv('prediction_results.csv', index=False)"
   ]
  },
  {
   "cell_type": "code",
   "execution_count": null,
   "id": "1af2f275",
   "metadata": {},
   "outputs": [],
   "source": [
    "# assuming df is your DataFrame\n",
    "cross_tab = pd.crosstab(df['True Country'], df['Predicted Country'])\n",
    "\n",
    "print(cross_tab)"
   ]
  },
  {
   "cell_type": "code",
   "execution_count": null,
   "id": "953cbca2",
   "metadata": {},
   "outputs": [],
   "source": []
  }
 ],
 "metadata": {
  "kernelspec": {
   "display_name": "fastai23",
   "language": "python",
   "name": "python3"
  },
  "language_info": {
   "codemirror_mode": {
    "name": "ipython",
    "version": 3
   },
   "file_extension": ".py",
   "mimetype": "text/x-python",
   "name": "python",
   "nbconvert_exporter": "python",
   "pygments_lexer": "ipython3",
   "version": "3.11.0"
  }
 },
 "nbformat": 4,
 "nbformat_minor": 5
}
